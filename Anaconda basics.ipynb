{
 "cells": [
  {
   "cell_type": "markdown",
   "metadata": {},
   "source": [
    "<h3>Advantages of Anaconda </h3>\n"
   ]
  },
  {
   "cell_type": "markdown",
   "metadata": {},
   "source": [
    "<h4>Why do we require Anaconda?</h4>\n",
    "\n",
    "Anaconda comes with Python, R and a bunch of data science tools, which will ready to use once you install  \n",
    "Anaconda environment. This very straight forward process comparing to install all these packages individually.\n",
    "\n",
    "The second advantage of using Anaconda is it manages your packages and dependencies, thereby reducing  \n",
    "the trouble while updating these libraries at a later time.\n",
    "\n",
    "You can also install an environment with a specific version of the library for running a code written compatible  \n",
    "with that version of the library. \n",
    "\n",
    "Anaconda can be used to create environments to isolate your projects."
   ]
  },
  {
   "cell_type": "markdown",
   "metadata": {},
   "source": [
    "<h3>Installing Anaconda </h3>"
   ]
  },
  {
   "cell_type": "markdown",
   "metadata": {},
   "source": [
    "Full Anaconda installation guide for linux is avalable here: https://docs.anaconda.com/anaconda/install/linux/\n",
    "\n",
    "The dependencies for Anaconda can be install as follows in rpm based Linux systems :\n",
    "\n",
    "<pre><code><span style=\"color:blue\">yum install libXcomposite libXcursor libXi libXtst libXrandr alsa-lib \n",
    "mesa-libEGL libXdamage mesa-libGL libXScrnSaver</span></code></pre>\n",
    "Download the Anaconda distibution for linux from Anaconda website then run \n",
    "<pre><code><span style=\"color:blue\">bash &ltfile_path&gt </span></code></pre>\n",
    "It is better to install the Anconda distribution in home (/home) directory than root (/) directory."
   ]
  },
  {
   "cell_type": "markdown",
   "metadata": {},
   "source": [
    "<h3>Setting up an Anaconda environment</h3>"
   ]
  },
  {
   "cell_type": "markdown",
   "metadata": {},
   "source": [
    "To create a new anaconda environment with name \"myenv\", use :\n",
    "    \n",
    "<pre><code><span style=\"color:blue\">conda create --name myenv </span></code></pre>\n",
    "\n",
    "To create a new anaconda environment with name \"myenv\" with a specfic python version, use:\n",
    "<pre><code><span style=\"color:blue\">conda create -n myenv python=3.6 </span></code></pre>\n",
    "\n",
    "To create a new anaconda environment with name \"myenv\" with a specfic package version, use:\n",
    "<pre><code><span style=\"color:blue\">conda create -n myenv scipy=0.15.0 </span></code></pre>\n",
    "\n",
    "To check all the anaconda environment installed, use:\n",
    "<pre><code><span style=\"color:blue\">conda env list </span></code></pre>"
   ]
  },
  {
   "cell_type": "markdown",
   "metadata": {},
   "source": [
    "<h3>Installing python packages in Anaconda </h3>"
   ]
  },
  {
   "cell_type": "markdown",
   "metadata": {},
   "source": [
    "To install a package to default environment (base), use:\n",
    "<pre><code><span style=\"color:blue\">conda install package_name</span></code></pre>\n",
    "To instal a package to myenv, use:\n",
    "<pre><code><span style=\"color:blue\">conda install package_name -n myenv</span></code></pre>"
   ]
  },
  {
   "cell_type": "markdown",
   "metadata": {},
   "source": [
    "<h3>Installing python packages from different repositories or channels </h3>"
   ]
  },
  {
   "cell_type": "markdown",
   "metadata": {},
   "source": [
    "To install a package to default environment (base) from conda-forge, use:\n",
    "<pre><code><span style=\"color:blue\">conda install --channel \"conda-forge\" package_name</span></code></pre>\n",
    "\n",
    "To install a package to myenv from conda-forge, use:\n",
    "<pre><code><span style=\"color:blue\">conda install --channel \"conda-forge\" package_name -n myenv</span></code></pre>"
   ]
  },
  {
   "cell_type": "markdown",
   "metadata": {},
   "source": [
    "<h3>Updating Anaconda</h3>"
   ]
  },
  {
   "cell_type": "markdown",
   "metadata": {},
   "source": [
    "For updating Anaconda, use :\n",
    "<pre><code><span style=\"color:blue\">conda update conda </span></code></pre>\n",
    "or \n",
    "<pre><code><span style=\"color:blue\">conda update anaconda=VersionNumber </span></code></pre>\n",
    "\n"
   ]
  },
  {
   "cell_type": "markdown",
   "metadata": {},
   "source": [
    "<h3><span style=\"color:Red\">Caution </span></h3>\n",
    "\n",
    "Do not use pip to install packages in the default anaconda environment. If you really need it, then use it inside  \n",
    "an environment created separately. "
   ]
  }
 ],
 "metadata": {
  "kernelspec": {
   "display_name": "Python 3",
   "language": "python",
   "name": "python3"
  },
  "language_info": {
   "codemirror_mode": {
    "name": "ipython",
    "version": 3
   },
   "file_extension": ".py",
   "mimetype": "text/x-python",
   "name": "python",
   "nbconvert_exporter": "python",
   "pygments_lexer": "ipython3",
   "version": "3.7.3"
  },
  "widgets": {
   "application/vnd.jupyter.widget-state+json": {
    "state": {},
    "version_major": 2,
    "version_minor": 0
   }
  }
 },
 "nbformat": 4,
 "nbformat_minor": 4
}
